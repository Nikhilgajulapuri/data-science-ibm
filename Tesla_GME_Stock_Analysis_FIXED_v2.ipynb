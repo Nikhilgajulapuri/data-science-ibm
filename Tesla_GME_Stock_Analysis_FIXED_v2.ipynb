{
 "cells": [
  {
   "cell_type": "markdown",
   "id": "74362c15",
   "metadata": {},
   "source": [
    "# Tesla and GameStop Stock & Revenue Analysis\n",
    "This notebook contains solutions to the final project lab questions involving data extraction and dashboard creation using Python."
   ]
  },
  {
   "cell_type": "code",
   "execution_count": null,
   "id": "c54b29c5",
   "metadata": {},
   "outputs": [],
   "source": [
    "# Import required libraries\n",
    "import yfinance as yf\n",
    "import pandas as pd\n",
    "import requests\n",
    "from bs4 import BeautifulSoup\n",
    "import plotly.graph_objs as go\n",
    "from plotly.subplots import make_subplots"
   ]
  },
  {
   "cell_type": "markdown",
   "id": "21db1307",
   "metadata": {},
   "source": [
    "## Question 1: Extracting Tesla Stock Data Using yfinance"
   ]
  },
  {
   "cell_type": "code",
   "execution_count": null,
   "id": "8846960a",
   "metadata": {},
   "outputs": [],
   "source": [
    "tesla = yf.Ticker(\"TSLA\")\n",
    "tesla_data = tesla.history(period=\"max\")\n",
    "tesla_data.reset_index(inplace=True)\n",
    "tesla_data.head()"
   ]
  },
  {
   "cell_type": "markdown",
   "id": "306f1ece",
   "metadata": {},
   "source": [
    "## Question 2: Extracting Tesla Revenue Data Using Webscraping"
   ]
  },
  {
   "cell_type": "code",
   "execution_count": null,
   "id": "d6595d03",
   "metadata": {},
   "outputs": [],
   "source": [
    "import pandas as pd\n",
    "import requests\n",
    "from bs4 import BeautifulSoup\n",
    "\n",
    "# Tesla revenue scraping\n",
    "url = \"https://www.macrotrends.net/stocks/charts/TSLA/tesla/revenue\"\n",
    "html = requests.get(url).text\n",
    "soup = BeautifulSoup(html, \"html.parser\")\n",
    "\n",
    "tables = soup.find_all(\"table\")\n",
    "print(f\"Found {len(tables)} tables on Tesla page.\")\n",
    "\n",
    "if len(tables) > 0:\n",
    "    tesla_revenue = pd.read_html(str(tables[0]))[0]\n",
    "    tesla_revenue.columns = [\"Date\", \"Revenue\"]\n",
    "    tesla_revenue[\"Revenue\"] = tesla_revenue[\"Revenue\"].str.replace(\"$\", \"\").str.replace(\",\", \"\").str.strip()\n",
    "    tesla_revenue = tesla_revenue[tesla_revenue[\"Revenue\"] != \"\"]\n",
    "    tesla_revenue[\"Revenue\"] = pd.to_numeric(tesla_revenue[\"Revenue\"])\n",
    "    display(tesla_revenue.head())\n",
    "else:\n",
    "    print(\"No tables found for Tesla.\")"
   ]
  },
  {
   "cell_type": "markdown",
   "id": "79a582ee",
   "metadata": {},
   "source": [
    "## Question 3: Extracting GameStop Stock Data Using yfinance"
   ]
  },
  {
   "cell_type": "code",
   "execution_count": null,
   "id": "23128dbb",
   "metadata": {},
   "outputs": [],
   "source": [
    "gme = yf.Ticker(\"GME\")\n",
    "gme_data = gme.history(period=\"max\")\n",
    "gme_data.reset_index(inplace=True)\n",
    "gme_data.head()"
   ]
  },
  {
   "cell_type": "markdown",
   "id": "2eafc88d",
   "metadata": {},
   "source": [
    "## Question 4: Extracting GameStop Revenue Data Using Webscraping"
   ]
  },
  {
   "cell_type": "code",
   "execution_count": null,
   "id": "ca09f6fe",
   "metadata": {},
   "outputs": [],
   "source": [
    "import pandas as pd\n",
    "import requests\n",
    "from bs4 import BeautifulSoup\n",
    "\n",
    "# GameStop revenue scraping\n",
    "url = \"https://www.macrotrends.net/stocks/charts/GME/gamestop/revenue\"\n",
    "html = requests.get(url).text\n",
    "soup = BeautifulSoup(html, \"html.parser\")\n",
    "\n",
    "tables = soup.find_all(\"table\")\n",
    "print(f\"Found {len(tables)} tables on GME page.\")\n",
    "\n",
    "if len(tables) > 0:\n",
    "    gme_revenue = pd.read_html(str(tables[0]))[0]\n",
    "    gme_revenue.columns = [\"Date\", \"Revenue\"]\n",
    "    gme_revenue[\"Revenue\"] = gme_revenue[\"Revenue\"].str.replace(\"$\", \"\").str.replace(\",\", \"\").str.strip()\n",
    "    gme_revenue = gme_revenue[gme_revenue[\"Revenue\"] != \"\"]\n",
    "    gme_revenue[\"Revenue\"] = pd.to_numeric(gme_revenue[\"Revenue\"])\n",
    "    display(gme_revenue.head())\n",
    "else:\n",
    "    print(\"No tables found for GME.\")"
   ]
  },
  {
   "cell_type": "markdown",
   "id": "47b0e040",
   "metadata": {},
   "source": [
    "## Question 5: Tesla Stock and Revenue Dashboard"
   ]
  },
  {
   "cell_type": "code",
   "execution_count": null,
   "id": "5b352532",
   "metadata": {},
   "outputs": [],
   "source": [
    "\n",
    "from plotly.subplots import make_subplots\n",
    "import plotly.graph_objects as go\n",
    "\n",
    "try:\n",
    "    if 'tesla_data' in locals() and 'tesla_revenue' in locals() and not tesla_data.empty and not tesla_revenue.empty:\n",
    "        fig = make_subplots(rows=2, cols=1, shared_xaxes=True, \n",
    "                            subplot_titles=(\"Tesla Stock Price\", \"Tesla Revenue\"),\n",
    "                            vertical_spacing=0.1)\n",
    "\n",
    "        fig.add_trace(go.Scatter(x=tesla_data['Date'], y=tesla_data['Close'], name=\"TSLA Stock\"), row=1, col=1)\n",
    "        fig.add_trace(go.Scatter(x=tesla_revenue['Date'], y=tesla_revenue['Revenue'], name=\"TSLA Revenue\"), row=2, col=1)\n",
    "\n",
    "        fig.update_layout(title=\"Tesla Stock and Revenue Dashboard\", height=600,\n",
    "                          xaxis_title=\"Date\", yaxis_title=\"Price/Revenue (USD)\", hovermode=\"x unified\")\n",
    "        fig.show()\n",
    "    else:\n",
    "        print(\"Tesla data not available or empty. Cannot create dashboard.\")\n",
    "except Exception as e:\n",
    "    print(f\"Error creating Tesla dashboard: {e}\")\n"
   ]
  },
  {
   "cell_type": "markdown",
   "id": "15c52988",
   "metadata": {},
   "source": [
    "## Question 6: GameStop Stock and Revenue Dashboard"
   ]
  },
  {
   "cell_type": "code",
   "execution_count": null,
   "id": "c4708869",
   "metadata": {},
   "outputs": [],
   "source": [
    "try:\n",
    "    if 'gme_data' in locals() and 'gme_revenue' in locals():\n",
    "        gme_data = gme_data[gme_data['Date'] >= gme_revenue['Date'].min()]\n",
    "        gme_revenue = gme_revenue[gme_revenue['Date'] <= gme_data['Date'].max()]\n",
    "\n",
    "        fig = make_subplots(rows=2, cols=1, shared_xaxes=True, \n",
    "                          subplot_titles=(\"GameStop Stock Price\", \"GameStop Revenue\"),\n",
    "                          vertical_spacing=0.1)\n",
    "\n",
    "        fig.add_trace(go.Scatter(x=gme_data['Date'], y=gme_data['Close'], name=\"GME Stock\"), row=1, col=1)\n",
    "        fig.add_trace(go.Scatter(x=gme_revenue['Date'], y=gme_revenue['Revenue'], name=\"GME Revenue\"), row=2, col=1)\n",
    "\n",
    "        fig.update_layout(title=\"GameStop Stock and Revenue Dashboard\", height=600)\n",
    "        fig.show()\n",
    "    else:\n",
    "        print(\"GameStop data not available to create dashboard\")\n",
    "except Exception as e:\n",
    "    print(f\"Error creating GameStop dashboard: {e}\")"
   ]
  },
  {
   "cell_type": "markdown",
   "id": "3370b367",
   "metadata": {},
   "source": [
    "## Question 7: Share Your Notebook\n",
    "Save and upload this file as instructed."
   ]
  }
 ],
 "metadata": {
  "kernelspec": {
   "display_name": "Python 3",
   "language": "python",
   "name": "python3"
  },
  "language_info": {
   "name": "python",
   "version": "3.9"
  }
 },
 "nbformat": 4,
 "nbformat_minor": 5
}
