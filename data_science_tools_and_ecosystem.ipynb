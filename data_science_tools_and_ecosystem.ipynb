{
 "cells": [
  {
   "cell_type": "markdown",
   "id": "16b2ed29",
   "metadata": {},
   "source": [
    "# Data Science Tools and Ecosystem"
   ]
  },
  {
   "cell_type": "markdown",
   "id": "d59ea92e",
   "metadata": {},
   "source": [
    "In this notebook, Data Science tools and techniques are summarized. It also includes some basic arithmetic operations using Python code."
   ]
  },
  {
   "cell_type": "markdown",
   "id": "8b0cba15",
   "metadata": {},
   "source": [
    "**Some of the popular languages that Data Scientists use are:**\n",
    "- Python\n",
    "- R\n",
    "- SQL\n",
    "- Julia\n",
    "- Scala"
   ]
  },
  {
   "cell_type": "markdown",
   "id": "54cc9d5c",
   "metadata": {},
   "source": [
    "**Some of the commonly used libraries used by Data Scientists include:**\n",
    "- Pandas\n",
    "- NumPy\n",
    "- Matplotlib\n",
    "- Scikit-learn\n",
    "- TensorFlow"
   ]
  },
  {
   "cell_type": "markdown",
   "id": "bbf10557",
   "metadata": {},
   "source": [
    "| Tool             | Description                      |\n",
    "|------------------|----------------------------------|\n",
    "| Jupyter Notebook | Interactive coding environment   |\n",
    "| RStudio          | IDE for R                        |\n",
    "| Apache Zeppelin  | Web-based notebook for big data  |"
   ]
  },
  {
   "cell_type": "markdown",
   "id": "ac7afa26",
   "metadata": {},
   "source": [
    "Below are examples of evaluating arithmetic expressions in Python."
   ]
  },
  {
   "cell_type": "code",
   "execution_count": null,
   "id": "aac072ae",
   "metadata": {},
   "outputs": [],
   "source": [
    "# This is a simple arithmetic expression to multiply then add integers\n",
    "(3 * 4) + 5"
   ]
  },
  {
   "cell_type": "code",
   "execution_count": null,
   "id": "4e8d9ed5",
   "metadata": {},
   "outputs": [],
   "source": [
    "# This will convert 200 minutes to hours\n",
    "200 / 60"
   ]
  },
  {
   "cell_type": "markdown",
   "id": "efee9418",
   "metadata": {},
   "source": [
    "**Objectives:**\n",
    "- List popular languages for Data Science\n",
    "- List commonly used libraries in Data Science\n",
    "- Create tables using Markdown\n",
    "- Perform arithmetic operations in Python"
   ]
  },
  {
   "cell_type": "markdown",
   "id": "21aae3c9",
   "metadata": {},
   "source": [
    "**Author:** GAJULAPURI NIKHIL"
   ]
  },
  {
   "cell_type": "markdown",
   "id": "de0c1dff",
   "metadata": {},
   "source": [
    "*Notebook created on 2025-07-04*"
   ]
  }
 ],
 "metadata": {
  "language_info": {
   "name": "python"
  }
 },
 "nbformat": 4,
 "nbformat_minor": 5
}
