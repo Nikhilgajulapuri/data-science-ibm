{
 "cells": [
  {
   "cell_type": "markdown",
   "id": "0c4165d6-bf89-449c-974f-b8dce18130c3",
   "metadata": {},
   "source": [
    "# Data Science Tools and Ecosystem"
   ]
  },
  {
   "cell_type": "markdown",
   "id": "42e146cb-0397-402f-9750-c419af9e773a",
   "metadata": {},
   "source": [
    "In this notebook,Data Science Tools and Ecosystem are summarized."
   ]
  },
  {
   "cell_type": "markdown",
   "id": "4dfd31b2-77f9-4802-8926-964f996c1677",
   "metadata": {},
   "source": [
    "Here are some of the most commonly used programming languages in the field of data science:\n",
    "\n",
    "1. Python – Widely used for data analysis, machine learning, and deep learning due to its rich ecosystem (e.g., Pandas, NumPy, Scikit-learn, TensorFlow).\n",
    "2. R – Designed specifically for statistical computing and graphics, ideal for data visualization and statistical modeling.\n",
    "3. SQL – Essential for data querying and manipulation in relational databases.\n",
    "4. Julia – High-performance language suitable for numerical analysis and computational science.\n",
    "5. Scala – Used with big data tools like Apache Spark for distributed data processing.\n",
    "\n",
    "These languages play key roles across various stages of the data science workflow, from data collection to deployment."
   ]
  },
  {
   "cell_type": "markdown",
   "id": "f74a3304-bf62-41ba-9fa6-6c2fdc6c2be6",
   "metadata": {},
   "source": [
    "Below is a list of commonly used libraries in data science, covering areas like data manipulation, visualization, machine learning, and more:\n",
    "\n",
    "1. Pandas – For data manipulation and analysis using dataframes  \n",
    "2. NumPy – Supports multi-dimensional arrays and mathematical operations  \n",
    "3. Matplotlib – Basic plotting library for creating static visualizations  \n",
    "4. Seaborn – High-level interface for statistical graphics built on Matplotlib  \n",
    "5. Plotly – Interactive plotting library useful for dashboards and web apps  \n",
    "6. Scikit-learn – Tools for classical machine learning and data mining  \n",
    "7. XGBoost – Optimized gradient boosting framework for speed and performance  \n",
    "8. LightGBM – Fast, high-performance gradient boosting library from Microsoft  \n",
    "9. TensorFlow – End-to-end open-source platform for building deep learning models  \n",
    "10. Keras – High-level neural networks API that runs on top of TensorFlow  \n",
    "11. PyTorch – Flexible and dynamic deep learning framework  \n",
    "12. NLTK – Toolkit for working with human language data  \n",
    "13. spaCy – Industrial-strength natural language processing library  \n",
    "14. OpenCV – Library for real-time computer vision and image processing\n",
    "\n"
   ]
  },
  {
   "cell_type": "markdown",
   "id": "f6377b81-8a10-4b71-8aa2-a620a75271fc",
   "metadata": {},
   "source": [
    "Below is a table of commonly used data science tools along with their primary purpose:\n",
    "\n",
    "| Tool           | Purpose                                          |\n",
    "|----------------|--------------------------------------------------|\n",
    "| Jupyter Notebook | Interactive coding, data visualization, documentation |\n",
    "| RStudio         | Integrated development environment for R         |\n",
    "| Google Colab    | Cloud-based Jupyter environment with free GPU access |\n",
    "| VS Code         | Lightweight code editor with data science extensions |\n",
    "| Tableau         | Data visualization and business intelligence     |\n",
    "| Power BI        | Interactive data visualization and reporting     |\n",
    "| Apache Spark    | Distributed data processing for big data         |\n",
    "| Hadoop          | Distributed storage and processing of large datasets |\n",
    "| KNIME           | GUI-based data analytics and workflow automation |\n",
    "| RapidMiner      | Data preparation, machine learning, and deployment |\n"
   ]
  },
  {
   "cell_type": "markdown",
   "id": "0d07e764-dd69-4d1e-bd6c-2e6928d81450",
   "metadata": {},
   "source": [
    "### Arithmetic Expression Examples\n",
    "\n",
    "Arithmetic expressions are used to perform basic mathematical operations such as addition, subtraction, multiplication, division, and more. These operations are fundamental in data analysis and computation.\n",
    "\n",
    "Below are some common arithmetic expression examples:\n",
    "\n",
    "- Addition: `5 + 3` results in `8`\n",
    "- Subtraction: `10 - 4` results in `6`\n",
    "- Multiplication: `7 * 2` results in `14`\n",
    "- Division: `20 / 5` results in `4.0`\n",
    "- Exponentiation: `2 ** 3` results in `8`\n",
    "- Modulus (Remainder): `10 % 3` results in `1`\n",
    "\n",
    "These expressions can be used in Python and most programming languages to perform calculations during data processing.\n"
   ]
  },
  {
   "cell_type": "code",
   "execution_count": 2,
   "id": "95e827ff-37af-4cdb-ab18-ea7d6dc659c8",
   "metadata": {},
   "outputs": [
    {
     "data": {
      "text/plain": [
       "17"
      ]
     },
     "execution_count": 2,
     "metadata": {},
     "output_type": "execute_result"
    }
   ],
   "source": [
    " #Multiply and add:  \n",
    " (5 * 3) + 2 "
   ]
  },
  {
   "cell_type": "code",
   "execution_count": 3,
   "id": "1eaa0bac-0822-4403-822f-c6607b064f18",
   "metadata": {},
   "outputs": [
    {
     "data": {
      "text/plain": [
       "2.25"
      ]
     },
     "execution_count": 3,
     "metadata": {},
     "output_type": "execute_result"
    }
   ],
   "source": [
    " 135 / 60 "
   ]
  },
  {
   "cell_type": "markdown",
   "id": "fe64becb-b850-49e1-9aac-41215dc47b4d",
   "metadata": {},
   "source": [
    "### Objectives\n",
    "\n",
    "The objectives of this notebook are:\n",
    "\n",
    "1. To demonstrate the use of Markdown and code cells in a Jupyter notebook  \n",
    "2. To practice creating and formatting content using Markdown  \n",
    "3. To apply basic arithmetic expressions in code cells  \n",
    "4. To list important programming languages, libraries, and tools used in data science  \n",
    "5. To organize content clearly for easy readability and understanding  \n",
    "6. To successfully share the notebook through GitHub  \n"
   ]
  },
  {
   "cell_type": "markdown",
   "id": "864c2a8c-e916-46d2-8d57-055458f3d985",
   "metadata": {},
   "source": [
    "## Author\n",
    "GAJULAPURI NIKHIL"
   ]
  }
 ],
 "metadata": {
  "kernelspec": {
   "display_name": "Python [conda env:base] *",
   "language": "python",
   "name": "conda-base-py"
  },
  "language_info": {
   "codemirror_mode": {
    "name": "ipython",
    "version": 3
   },
   "file_extension": ".py",
   "mimetype": "text/x-python",
   "name": "python",
   "nbconvert_exporter": "python",
   "pygments_lexer": "ipython3",
   "version": "3.12.7"
  }
 },
 "nbformat": 4,
 "nbformat_minor": 5
}
